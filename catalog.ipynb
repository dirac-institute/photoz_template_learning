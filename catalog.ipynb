{
 "cells": [
  {
   "cell_type": "markdown",
   "metadata": {},
   "source": [
    "In this notebook, I open the galaxy redshift data from [Zhou et al.](https://doi.org/10.1093/mnras/stz1866). I filter the data and combine them into one set, to be used for the template learning. I also make plots to characterize the data, for use in the paper.\n",
    "\n",
    "The actual data can be downloaded [here](http://d-scholarship.pitt.edu/36064/)."
   ]
  },
  {
   "cell_type": "code",
   "execution_count": 2,
   "metadata": {},
   "outputs": [],
   "source": [
    "import numpy as np\n",
    "import matplotlib.pyplot as plt\n",
    "from astropy.table import Table, vstack\n",
    "import copy"
   ]
  },
  {
   "cell_type": "code",
   "execution_count": 3,
   "metadata": {},
   "outputs": [],
   "source": [
    "# plotting style\n",
    "%config InlineBackend.figure_format = 'retina'\n",
    "plt.style.use('paper.mplstyle')"
   ]
  },
  {
   "cell_type": "markdown",
   "metadata": {},
   "source": [
    "## **Loading and trimming the data set**\n",
    "\n",
    "Load both of the data sets, and apply quality cuts"
   ]
  },
  {
   "cell_type": "markdown",
   "metadata": {},
   "source": [
    "### Deep2/3 catalog"
   ]
  },
  {
   "cell_type": "code",
   "execution_count": 16,
   "metadata": {},
   "outputs": [
    {
     "name": "stdout",
     "output_type": "stream",
     "text": [
      "The Deep2/3 catalog contains 23822 objects\n",
      "After quality cuts, we have 14172 objects\n"
     ]
    }
   ],
   "source": [
    "cat = Table.read(\"data/DEEP2_uniq_Terapix_Subaru_v1.fits\")\n",
    "print(\"The Deep2/3 catalog contains\",len(cat),\"objects\")\n",
    "\n",
    "# quality cuts on data\n",
    "uflag  = cat['u(sexflag)']\n",
    "gflag  = cat['g(sexflag)']\n",
    "rflag  = cat['r(sexflag)']\n",
    "i2flag = cat['i2(sexflag)']\n",
    "iflag  = cat['i(sexflag)']\n",
    "zflag  = cat['z(sexflag)']\n",
    "yflag  = cat['y(sexflag)']\n",
    "cflag  = cat['flag_cfhtls']\n",
    "zqual  = cat['zquality']\n",
    "Class  = cat['class']\n",
    "\n",
    "S = 4 # SExtractor flag\n",
    "\n",
    "idx = np.where( (  uflag < S ) &\n",
    "                (  gflag < S ) &\n",
    "                (  rflag < S ) &\n",
    "                ( i2flag < S ) &\n",
    "                (  iflag < S ) &\n",
    "                (  zflag < S ) &\n",
    "                (  yflag < S ) &\n",
    "                ( cflag == 0 ) &\n",
    "                ( zqual >= 3 ) &\n",
    "                ( Class == 'GALAXY' ) )\n",
    "\n",
    "print(\"After quality cuts, we have\",len(idx[0]),\"objects\")\n",
    "\n",
    "# get the data\n",
    "redshift  = cat['zhelio'][idx]\n",
    "\n",
    "u  = cat['u_apercor'][idx]\n",
    "g  = cat['g_apercor'][idx]\n",
    "r  = cat['r_apercor'][idx]\n",
    "i2 = cat['i2_apercor'][idx]\n",
    "i  = cat['i_apercor'][idx]\n",
    "z  = cat['z_apercor'][idx]\n",
    "y  = cat['y_apercor'][idx]\n",
    "\n",
    "uerr  = np.sqrt( cat['uerr_aper']**2  +  cat['uerr_apercor']**2 )[idx]\n",
    "gerr  = np.sqrt( cat['gerr_aper']**2  +  cat['gerr_apercor']**2 )[idx]\n",
    "rerr  = np.sqrt( cat['rerr_aper']**2  +  cat['rerr_apercor']**2 )[idx]\n",
    "i2err = np.sqrt( cat['i2err_aper']**2 + cat['i2err_apercor']**2 )[idx]\n",
    "ierr  = np.sqrt( cat['ierr_aper']**2  +  cat['ierr_apercor']**2 )[idx]\n",
    "zerr  = np.sqrt( cat['zerr_aper']**2  +  cat['zerr_apercor']**2 )[idx]\n",
    "yerr  = np.sqrt( cat['yerr_aper']**2  +  cat['yerr_apercor']**2 )[idx]\n",
    "\n",
    "source = [\"DEEP2/3\" for i in range(len(redshift))]\n",
    "\n",
    "# Add Deep2/3 galaxies that passed all cuts to our catalog\n",
    "catalog_ = Table([redshift,u,g,r,i2,i,z,y,uerr,gerr,rerr,i2err,ierr,zerr,yerr,source],\n",
    "                 names=('redshift','u','g','r','i2','i','z','y','uerr','gerr','rerr','i2err','ierr','zerr','yerr','source'))"
   ]
  },
  {
   "cell_type": "markdown",
   "metadata": {},
   "source": [
    "### HST catalog"
   ]
  },
  {
   "cell_type": "code",
   "execution_count": 18,
   "metadata": {},
   "outputs": [
    {
     "name": "stdout",
     "output_type": "stream",
     "text": [
      "The HST catalog contains 14462 objects\n",
      "There are 12546 objects that aren't in Deep2/3\n",
      "After quality cuts, we have 1706 objects\n"
     ]
    }
   ],
   "source": [
    "cat = Table.read(\"data/3D-HST_Terapix_Subaru_v1.fits\")\n",
    "print(\"The HST catalog contains\",len(cat),\"objects\")\n",
    "\n",
    "# remove objects that are also in DEEP2/3 catalog\n",
    "deep2N = cat['objno_deep2']\n",
    "idx = np.where( deep2N == -99 )\n",
    "cat = cat[idx]\n",
    "print(\"There are\",len(cat),\"objects that aren't in Deep2/3\")\n",
    "\n",
    "# quality cuts on data\n",
    "uflag  = cat['u(sexflag)']\n",
    "gflag  = cat['g(sexflag)']\n",
    "rflag  = cat['r(sexflag)']\n",
    "i2flag = cat['i2(sexflag)']\n",
    "iflag  = cat['i(sexflag)']\n",
    "zflag  = cat['z(sexflag)']\n",
    "yflag  = cat['y(sexflag)']\n",
    "cflag  = cat['flag_cfhtls']\n",
    "zqual  = cat['use_zgrism1']\n",
    "\n",
    "S = 4 # SExtractor flag\n",
    "\n",
    "idx = np.where( (  uflag < S ) &\n",
    "                (  gflag < S ) &\n",
    "                (  rflag < S ) &\n",
    "                ( i2flag < S ) &\n",
    "                (  iflag < S ) &\n",
    "                (  zflag < S ) &\n",
    "                (  yflag < S ) &\n",
    "                ( cflag == 0 ) &\n",
    "                ( zqual == 1 ) )\n",
    "\n",
    "print(\"After quality cuts, we have\",len(idx[0]),\"objects\")\n",
    "\n",
    "# get the data\n",
    "redshift  = cat['z_max_grism'][idx]\n",
    "\n",
    "u  = cat['u_apercor'][idx]\n",
    "g  = cat['g_apercor'][idx]\n",
    "r  = cat['r_apercor'][idx]\n",
    "i2 = cat['i2_apercor'][idx]\n",
    "i  = cat['i_apercor'][idx]\n",
    "z  = cat['z_apercor'][idx]\n",
    "y  = cat['y_apercor'][idx]\n",
    "\n",
    "uerr  = np.sqrt( cat['uerr_aper']**2  +  cat['uerr_apercor']**2 )[idx]\n",
    "gerr  = np.sqrt( cat['gerr_aper']**2  +  cat['gerr_apercor']**2 )[idx]\n",
    "rerr  = np.sqrt( cat['rerr_aper']**2  +  cat['rerr_apercor']**2 )[idx]\n",
    "i2err = np.sqrt( cat['i2err_aper']**2 + cat['i2err_apercor']**2 )[idx]\n",
    "ierr  = np.sqrt( cat['ierr_aper']**2  +  cat['ierr_apercor']**2 )[idx]\n",
    "zerr  = np.sqrt( cat['zerr_aper']**2  +  cat['zerr_apercor']**2 )[idx]\n",
    "yerr  = np.sqrt( cat['yerr_aper']**2  +  cat['yerr_apercor']**2 )[idx]\n",
    "\n",
    "source = [\"3D-HST\" for i in range(len(redshift))]\n",
    "\n",
    "# Add HST galaxies that passed all cuts to our catalog\n",
    "catalog = vstack([catalog_,\n",
    "                  Table([redshift,u,g,r,i2,i,z,y,uerr,gerr,rerr,i2err,ierr,zerr,yerr,source],\n",
    "                        names=('redshift','u','g','r','i2','i','z','y','uerr','gerr','rerr','i2err','ierr','zerr','yerr','source'))])"
   ]
  },
  {
   "cell_type": "markdown",
   "metadata": {},
   "source": [
    "### COSMOS catalog"
   ]
  },
  {
   "cell_type": "code",
   "execution_count": 19,
   "metadata": {},
   "outputs": [
    {
     "name": "stdout",
     "output_type": "stream",
     "text": [
      "14311\n"
     ]
    }
   ],
   "source": [
    "cat = Table.read('data/zcosmost_bright20k.csv',format='csv')\n",
    "\n",
    "idx = np.where(cat['zpec'] > 0)\n",
    "cat = cat[idx]\n",
    "idx = np.where(cat['id_photzi25'] != 9999999)\n",
    "cat = cat[idx]\n",
    "\n",
    "idx = np.where( ( cat['flag_maskb_photzi25'] == 0 ) &\n",
    "                ( cat['flag_maskv_photzi25'] == 0 ) &\n",
    "                ( cat['flag_maski_photzi25'] == 0 ) &\n",
    "                ( cat['flag_maskz_photzi25'] == 0 ) &\n",
    "                ( cat['flag_maskd_photzi25'] == 0 ) )\n",
    "\n",
    "cat = cat[idx]\n",
    "print(len(cat))"
   ]
  },
  {
   "cell_type": "markdown",
   "metadata": {},
   "source": [
    "#### Save the trimmed catalog"
   ]
  },
  {
   "cell_type": "code",
   "execution_count": 21,
   "metadata": {},
   "outputs": [
    {
     "name": "stdout",
     "output_type": "stream",
     "text": [
      "The combined catalog has 15878 objects\n",
      "i band mags range from 15.30 to 27.41\n",
      "The redshift range is 0.01 to 3.32\n",
      "\n",
      "Saving 'data/combined_catalog.fits'\n"
     ]
    }
   ],
   "source": [
    "print(\"The combined catalog has\",len(catalog),\"objects\")\n",
    "idx = np.where(catalog['i'] < 99)\n",
    "print(\"i band mags range from {0:.2f} to {1:.2f}\".format(min(catalog['i']),max(catalog['i'][idx])))\n",
    "print(\"The redshift range is {0:.2f} to {1:.2f}\".format(min(catalog['redshift']),max(catalog['redshift'])))\n",
    "\n",
    "filename = 'data/combined_catalog.fits'\n",
    "catalog.write(filename, overwrite=True)\n",
    "print(\"\\nSaving '\"+filename+\"'\")"
   ]
  },
  {
   "cell_type": "markdown",
   "metadata": {},
   "source": [
    "## **Plots to characterize the data set**\n",
    "\n",
    "Redshift histogram per catalog"
   ]
  },
  {
   "cell_type": "code",
   "execution_count": 12,
   "metadata": {},
   "outputs": [
    {
     "data": {
      "image/png": "[encoded data removed]",
      "text/plain": [
       "<Figure size 335x217.75 with 1 Axes>"
      ]
     },
     "metadata": {
      "image/png": {
       "height": 229,
       "width": 346
      },
      "needs_background": "light"
     },
     "output_type": "display_data"
    }
   ],
   "source": [
    "fig,ax = plt.subplots(figsize=(3.35,3.35*0.65),constrained_layout=True)\n",
    "\n",
    "idx = np.where( catalog['source'] == 'DEEP2/3' )\n",
    "ax.hist(catalog['redshift'][idx],range=(0,3),bins=30,histtype='step',label='DEEP2/3')\n",
    "idx = np.where( catalog['source'] == '3D-HST' )\n",
    "ax.hist(catalog['redshift'][idx],range=(0,3),bins=30,histtype='step',label='3D-HST')\n",
    "\n",
    "ax.hist(cat['zpec'],range=(0,3),bins=30,histtype='step',label='zCOSMOS')\n",
    "\n",
    "ax.legend(title=\"Catalog\")\n",
    "\n",
    "ax.set_xlabel('Redshift')\n",
    "ax.set_ylabel('Number of galaxies')\n",
    "ax.set_yscale('log')\n",
    "ax.set_yticks([10,100,1000])\n",
    "plt.show()"
   ]
  },
  {
   "cell_type": "markdown",
   "metadata": {},
   "source": [
    "Redshift histogram per i-band magnitude"
   ]
  },
  {
   "cell_type": "code",
   "execution_count": 8,
   "metadata": {},
   "outputs": [
    {
     "data": {
      "image/png": "[encoded data removed]",
      "text/plain": [
       "<Figure size 335x335 with 1 Axes>"
      ]
     },
     "metadata": {
      "image/png": {
       "height": 346,
       "width": 346
      },
      "needs_background": "light"
     },
     "output_type": "display_data"
    }
   ],
   "source": [
    "fig,ax = plt.subplots(constrained_layout=True)\n",
    "\n",
    "idx = np.where( catalog['i'] <= 22 )\n",
    "ax.hist(catalog['redshift'][idx],range=(0,3),bins=30,histtype='step',label='$<22$')\n",
    "idx = np.where( ( catalog['i'] > 22 ) & ( catalog['i'] <= 24 ) )\n",
    "ax.hist(catalog['redshift'][idx],range=(0,3),bins=30,histtype='step',label='$22-24$')\n",
    "idx = np.where( catalog['i'] > 24 )\n",
    "ax.hist(catalog['redshift'][idx],range=(0,3),bins=30,histtype='step',label='$>24$')\n",
    "\n",
    "ax.legend(title='i mag')\n",
    "\n",
    "ax.set_xlabel('Redshift')\n",
    "ax.set_ylabel('Number of galaxies')\n",
    "ax.set_yscale('log')\n",
    "ax.set_yticks([10,100,1000])\n",
    "\n",
    "plt.show()"
   ]
  },
  {
   "cell_type": "code",
   "execution_count": null,
   "metadata": {},
   "outputs": [],
   "source": []
  }
 ],
 "metadata": {
  "kernelspec": {
   "display_name": "Python 3",
   "language": "python",
   "name": "python3"
  },
  "language_info": {
   "codemirror_mode": {
    "name": "ipython",
    "version": 3
   },
   "file_extension": ".py",
   "mimetype": "text/x-python",
   "name": "python",
   "nbconvert_exporter": "python",
   "pygments_lexer": "ipython3",
   "version": "3.7.3"
  }
 },
 "nbformat": 4,
 "nbformat_minor": 4
}
