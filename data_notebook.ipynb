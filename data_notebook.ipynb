{
 "cells": [
  {
   "cell_type": "markdown",
   "metadata": {},
   "source": [
    "In this notebook, I open the galaxy redshift data from [Zhou et al.](https://doi.org/10.1093/mnras/stz1866). I filter the data and combine them into one set, to be used for the template learning. I also make plots to characterize the data, for use in the paper.\n",
    "\n",
    "The actual data can be downloaded [here](http://d-scholarship.pitt.edu/36064/)."
   ]
  },
  {
   "cell_type": "code",
   "execution_count": 8,
   "metadata": {},
   "outputs": [],
   "source": [
    "import numpy as np\n",
    "import matplotlib.pyplot as plt\n",
    "from astropy.table import Table"
   ]
  },
  {
   "cell_type": "code",
   "execution_count": 9,
   "metadata": {},
   "outputs": [],
   "source": [
    "# plotting style\n",
    "%config InlineBackend.figure_format = 'retina'\n",
    "plt.style.use('paper.mplstyle')"
   ]
  },
  {
   "cell_type": "markdown",
   "metadata": {},
   "source": [
    "#### Load the Deep2/3 catalog:"
   ]
  },
  {
   "cell_type": "code",
   "execution_count": 132,
   "metadata": {},
   "outputs": [
    {
     "name": "stdout",
     "output_type": "stream",
     "text": [
      "The Deep2/3 catalog contains 23822 objects\n",
      "After quality cuts, we have 14172 objects\n",
      "After removing any galaxies with non-detections or -observations in any band, we have 5574 objects\n"
     ]
    }
   ],
   "source": [
    "cat = Table.read(\"data/DEEP2_uniq_Terapix_Subaru_v1.fits\")\n",
    "print(\"The Deep2/3 catalog contains\",len(cat),\"objects\")\n",
    "\n",
    "# quality cuts on data\n",
    "uflag  = cat['u(sexflag)']\n",
    "gflag  = cat['g(sexflag)']\n",
    "rflag  = cat['r(sexflag)']\n",
    "i2flag = cat['i2(sexflag)']\n",
    "iflag  = cat['i(sexflag)']\n",
    "zflag  = cat['z(sexflag)']\n",
    "yflag  = cat['y(sexflag)']\n",
    "cflag  = cat['flag_cfhtls']\n",
    "zqual  = cat['zquality']\n",
    "Class  = cat['class']\n",
    "\n",
    "S = 16 # SExtractor flag\n",
    "\n",
    "idx = np.where( (  uflag < S ) &\n",
    "                (  gflag < S ) &\n",
    "                (  rflag < S ) &\n",
    "                ( i2flag < S ) &\n",
    "                (  iflag < S ) &\n",
    "                (  zflag < S ) &\n",
    "                (  yflag < S ) &\n",
    "                ( cflag == 0 ) &\n",
    "                ( zqual >= 3 ) &\n",
    "                ( Class == 'GALAXY' ) )\n",
    "\n",
    "print(\"After quality cuts, we have\",len(idx[0]),\"objects\")\n",
    "\n",
    "# get the data\n",
    "redshift  = cat['zhelio'][idx]\n",
    "\n",
    "u  = cat['u_apercor'][idx]\n",
    "g  = cat['g_apercor'][idx]\n",
    "r  = cat['r_apercor'][idx]\n",
    "i2 = cat['i2_apercor'][idx]\n",
    "i  = cat['i_apercor'][idx]\n",
    "z  = cat['z_apercor'][idx]\n",
    "y  = cat['y_apercor'][idx]\n",
    "\n",
    "uerr  = np.sqrt( cat['uerr_aper']**2 + cat['uerr_apercor']**2 )[idx]\n",
    "gerr  = np.sqrt( cat['gerr_aper']**2 + cat['gerr_apercor']**2 )[idx]\n",
    "rerr  = np.sqrt( cat['rerr_aper']**2 + cat['rerr_apercor']**2 )[idx]\n",
    "i2err = np.sqrt( cat['i2err_aper']**2 + cat['i2err_apercor']**2 )[idx]\n",
    "ierr  = np.sqrt( cat['ierr_aper']**2 + cat['ierr_apercor']**2 )[idx]\n",
    "zerr  = np.sqrt( cat['zerr_aper']**2 + cat['zerr_apercor']**2 )[idx]\n",
    "yerr  = np.sqrt( cat['yerr_aper']**2 + cat['yerr_apercor']**2 )[idx]\n",
    "\n",
    "# remove any galaxies that have non-detections or \n",
    "# non-observations in any of the bands\n",
    "idx = np.where( (  u != -99 ) &\n",
    "                (  u !=  99 ) &\n",
    "                (  g != -99 ) &\n",
    "                (  g !=  99 ) &\n",
    "                (  r != -99 ) &\n",
    "                (  r !=  99 ) &\n",
    "                ( i2 != -99 ) &\n",
    "                ( i2 !=  99 ) &\n",
    "                (  i != -99 ) &\n",
    "                (  i !=  99 ) &\n",
    "                (  z != -99 ) &\n",
    "                (  z !=  99 ) &\n",
    "                (  y != -99 ) &\n",
    "                (  y !=  99 ) )\n",
    "\n",
    "u,g,r,i2,i,z,y = u[idx],g[idx],r[idx],i2[idx],i[idx],z[idx],y[idx]\n",
    "uerr,gerr,rerr,i2err,ierr,zerr,yerr = uerr[idx],gerr[idx],rerr[idx],i2err[idx],ierr[idx],zerr[idx],yerr[idx]\n",
    "\n",
    "print(\"After removing any galaxies with non-detections or -observations in any band, we have\",len(u),\"objects\")"
   ]
  },
  {
   "cell_type": "markdown",
   "metadata": {},
   "source": [
    "#### Load the HST catalog"
   ]
  },
  {
   "cell_type": "code",
   "execution_count": 134,
   "metadata": {},
   "outputs": [
    {
     "name": "stdout",
     "output_type": "stream",
     "text": [
      "The HST catalog contains 14462 objects\n",
      "There are 12546 objects that aren't in Deep2/3\n",
      "After quality cuts, we have 1706 objects\n",
      "After removing any galaxies with non-detections or -observations in any band, we have 586 objects\n"
     ]
    }
   ],
   "source": [
    "cat = Table.read(\"data/3D-HST_Terapix_Subaru_v1.fits\")\n",
    "print(\"The HST catalog contains\",len(cat),\"objects\")\n",
    "\n",
    "# remove objects that are also in DEEP2/3 catalog\n",
    "deep2N = cat['objno_deep2']\n",
    "idx = np.where( deep2N == -99 )\n",
    "cat = cat[idx]\n",
    "print(\"There are\",len(cat),\"objects that aren't in Deep2/3\")\n",
    "\n",
    "# quality cuts on data\n",
    "uflag  = cat['u(sexflag)']\n",
    "gflag  = cat['g(sexflag)']\n",
    "rflag  = cat['r(sexflag)']\n",
    "i2flag = cat['i2(sexflag)']\n",
    "iflag  = cat['i(sexflag)']\n",
    "zflag  = cat['z(sexflag)']\n",
    "yflag  = cat['y(sexflag)']\n",
    "cflag  = cat['flag_cfhtls']\n",
    "zqual  = cat['use_zgrism1']\n",
    "\n",
    "S = 16 # SExtractor flag\n",
    "\n",
    "idx = np.where( (  uflag < S ) &\n",
    "                (  gflag < S ) &\n",
    "                (  rflag < S ) &\n",
    "                ( i2flag < S ) &\n",
    "                (  iflag < S ) &\n",
    "                (  zflag < S ) &\n",
    "                (  yflag < S ) &\n",
    "                ( cflag == 0 ) &\n",
    "                ( zqual == 1 ) )\n",
    "\n",
    "print(\"After quality cuts, we have\",len(idx[0]),\"objects\")\n",
    "\n",
    "# get the data\n",
    "redshift  = cat['z_max_grism'][idx]\n",
    "\n",
    "u  = cat['u_apercor'][idx]\n",
    "g  = cat['g_apercor'][idx]\n",
    "r  = cat['r_apercor'][idx]\n",
    "i2 = cat['i2_apercor'][idx]\n",
    "i  = cat['i_apercor'][idx]\n",
    "z  = cat['z_apercor'][idx]\n",
    "y  = cat['y_apercor'][idx]\n",
    "\n",
    "uerr  = np.sqrt( cat['uerr_aper']**2 + cat['uerr_apercor']**2 )[idx]\n",
    "gerr  = np.sqrt( cat['gerr_aper']**2 + cat['gerr_apercor']**2 )[idx]\n",
    "rerr  = np.sqrt( cat['rerr_aper']**2 + cat['rerr_apercor']**2 )[idx]\n",
    "i2err = np.sqrt( cat['i2err_aper']**2 + cat['i2err_apercor']**2 )[idx]\n",
    "ierr  = np.sqrt( cat['ierr_aper']**2 + cat['ierr_apercor']**2 )[idx]\n",
    "zerr  = np.sqrt( cat['zerr_aper']**2 + cat['zerr_apercor']**2 )[idx]\n",
    "yerr  = np.sqrt( cat['yerr_aper']**2 + cat['yerr_apercor']**2 )[idx]\n",
    "\n",
    "# remove any galaxies that have non-detections or \n",
    "# non-observations in any of the bands\n",
    "idx = np.where( (  u != -99 ) &\n",
    "                (  u !=  99 ) &\n",
    "                (  g != -99 ) &\n",
    "                (  g !=  99 ) &\n",
    "                (  r != -99 ) &\n",
    "                (  r !=  99 ) &\n",
    "                ( i2 != -99 ) &\n",
    "                ( i2 !=  99 ) &\n",
    "                (  i != -99 ) &\n",
    "                (  i !=  99 ) &\n",
    "                (  z != -99 ) &\n",
    "                (  z !=  99 ) &\n",
    "                (  y != -99 ) &\n",
    "                (  y !=  99 ) )\n",
    "\n",
    "u,g,r,i2,i,z,y = u[idx],g[idx],r[idx],i2[idx],i[idx],z[idx],y[idx]\n",
    "uerr,gerr,rerr,i2err,ierr,zerr,yerr = uerr[idx],gerr[idx],rerr[idx],i2err[idx],ierr[idx],zerr[idx],yerr[idx]\n",
    "\n",
    "print(\"After removing any galaxies with non-detections or -observations in any band, we have\",len(u),\"objects\")"
   ]
  },
  {
   "cell_type": "code",
   "execution_count": null,
   "metadata": {},
   "outputs": [],
   "source": []
  }
 ],
 "metadata": {
  "kernelspec": {
   "display_name": "Python 3",
   "language": "python",
   "name": "python3"
  },
  "language_info": {
   "codemirror_mode": {
    "name": "ipython",
    "version": 3
   },
   "file_extension": ".py",
   "mimetype": "text/x-python",
   "name": "python",
   "nbconvert_exporter": "python",
   "pygments_lexer": "ipython3",
   "version": "3.6.9"
  }
 },
 "nbformat": 4,
 "nbformat_minor": 2
}
