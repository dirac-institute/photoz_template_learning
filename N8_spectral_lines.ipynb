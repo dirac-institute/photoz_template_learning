{
 "cells": [
  {
   "cell_type": "code",
   "execution_count": 99,
   "metadata": {},
   "outputs": [],
   "source": [
    "import numpy as np\n",
    "import matplotlib.pyplot as plt\n",
    "import copy\n",
    "\n",
    "from modules import get_bandpass_dict, Sed\n",
    "from scipy.integrate import simps\n",
    "#from scipy.signal import medfilt\n",
    "#from scipy.interpolate import interp1d\n",
    "from scipy.stats import norm\n",
    "from scipy.interpolate import UnivariateSpline"
   ]
  },
  {
   "cell_type": "code",
   "execution_count": 98,
   "metadata": {},
   "outputs": [
    {
     "data": {
      "text/plain": [
       "\u001b[0;31mInit signature:\u001b[0m\n",
       "\u001b[0mscipy\u001b[0m\u001b[0;34m.\u001b[0m\u001b[0minterpolate\u001b[0m\u001b[0;34m.\u001b[0m\u001b[0mUnivariateSpline\u001b[0m\u001b[0;34m(\u001b[0m\u001b[0;34m\u001b[0m\n",
       "\u001b[0;34m\u001b[0m    \u001b[0mx\u001b[0m\u001b[0;34m,\u001b[0m\u001b[0;34m\u001b[0m\n",
       "\u001b[0;34m\u001b[0m    \u001b[0my\u001b[0m\u001b[0;34m,\u001b[0m\u001b[0;34m\u001b[0m\n",
       "\u001b[0;34m\u001b[0m    \u001b[0mw\u001b[0m\u001b[0;34m=\u001b[0m\u001b[0;32mNone\u001b[0m\u001b[0;34m,\u001b[0m\u001b[0;34m\u001b[0m\n",
       "\u001b[0;34m\u001b[0m    \u001b[0mbbox\u001b[0m\u001b[0;34m=\u001b[0m\u001b[0;34m[\u001b[0m\u001b[0;32mNone\u001b[0m\u001b[0;34m,\u001b[0m \u001b[0;32mNone\u001b[0m\u001b[0;34m]\u001b[0m\u001b[0;34m,\u001b[0m\u001b[0;34m\u001b[0m\n",
       "\u001b[0;34m\u001b[0m    \u001b[0mk\u001b[0m\u001b[0;34m=\u001b[0m\u001b[0;36m3\u001b[0m\u001b[0;34m,\u001b[0m\u001b[0;34m\u001b[0m\n",
       "\u001b[0;34m\u001b[0m    \u001b[0ms\u001b[0m\u001b[0;34m=\u001b[0m\u001b[0;32mNone\u001b[0m\u001b[0;34m,\u001b[0m\u001b[0;34m\u001b[0m\n",
       "\u001b[0;34m\u001b[0m    \u001b[0mext\u001b[0m\u001b[0;34m=\u001b[0m\u001b[0;36m0\u001b[0m\u001b[0;34m,\u001b[0m\u001b[0;34m\u001b[0m\n",
       "\u001b[0;34m\u001b[0m    \u001b[0mcheck_finite\u001b[0m\u001b[0;34m=\u001b[0m\u001b[0;32mFalse\u001b[0m\u001b[0;34m,\u001b[0m\u001b[0;34m\u001b[0m\n",
       "\u001b[0;34m\u001b[0m\u001b[0;34m)\u001b[0m\u001b[0;34m\u001b[0m\u001b[0;34m\u001b[0m\u001b[0m\n",
       "\u001b[0;31mDocstring:\u001b[0m     \n",
       "One-dimensional smoothing spline fit to a given set of data points.\n",
       "\n",
       "Fits a spline y = spl(x) of degree `k` to the provided `x`, `y` data.  `s`\n",
       "specifies the number of knots by specifying a smoothing condition.\n",
       "\n",
       "Parameters\n",
       "----------\n",
       "x : (N,) array_like\n",
       "    1-D array of independent input data. Must be increasing;\n",
       "    must be strictly increasing if `s` is 0.\n",
       "y : (N,) array_like\n",
       "    1-D array of dependent input data, of the same length as `x`.\n",
       "w : (N,) array_like, optional\n",
       "    Weights for spline fitting.  Must be positive.  If None (default),\n",
       "    weights are all equal.\n",
       "bbox : (2,) array_like, optional\n",
       "    2-sequence specifying the boundary of the approximation interval. If\n",
       "    None (default), ``bbox=[x[0], x[-1]]``.\n",
       "k : int, optional\n",
       "    Degree of the smoothing spline.  Must be <= 5.\n",
       "    Default is k=3, a cubic spline.\n",
       "s : float or None, optional\n",
       "    Positive smoothing factor used to choose the number of knots.  Number\n",
       "    of knots will be increased until the smoothing condition is satisfied::\n",
       "\n",
       "        sum((w[i] * (y[i]-spl(x[i])))**2, axis=0) <= s\n",
       "\n",
       "    If None (default), ``s = len(w)`` which should be a good value if\n",
       "    ``1/w[i]`` is an estimate of the standard deviation of ``y[i]``.\n",
       "    If 0, spline will interpolate through all data points.\n",
       "ext : int or str, optional\n",
       "    Controls the extrapolation mode for elements\n",
       "    not in the interval defined by the knot sequence.\n",
       "\n",
       "    * if ext=0 or 'extrapolate', return the extrapolated value.\n",
       "    * if ext=1 or 'zeros', return 0\n",
       "    * if ext=2 or 'raise', raise a ValueError\n",
       "    * if ext=3 of 'const', return the boundary value.\n",
       "\n",
       "    The default value is 0.\n",
       "\n",
       "check_finite : bool, optional\n",
       "    Whether to check that the input arrays contain only finite numbers.\n",
       "    Disabling may give a performance gain, but may result in problems\n",
       "    (crashes, non-termination or non-sensical results) if the inputs\n",
       "    do contain infinities or NaNs.\n",
       "    Default is False.\n",
       "\n",
       "See Also\n",
       "--------\n",
       "InterpolatedUnivariateSpline : Subclass with smoothing forced to 0\n",
       "LSQUnivariateSpline : Subclass in which knots are user-selected instead of\n",
       "    being set by smoothing condition\n",
       "splrep : An older, non object-oriented wrapping of FITPACK\n",
       "splev, sproot, splint, spalde\n",
       "BivariateSpline : A similar class for two-dimensional spline interpolation\n",
       "\n",
       "Notes\n",
       "-----\n",
       "The number of data points must be larger than the spline degree `k`.\n",
       "\n",
       "**NaN handling**: If the input arrays contain ``nan`` values, the result\n",
       "is not useful, since the underlying spline fitting routines cannot deal\n",
       "with ``nan`` . A workaround is to use zero weights for not-a-number\n",
       "data points:\n",
       "\n",
       ">>> from scipy.interpolate import UnivariateSpline\n",
       ">>> x, y = np.array([1, 2, 3, 4]), np.array([1, np.nan, 3, 4])\n",
       ">>> w = np.isnan(y)\n",
       ">>> y[w] = 0.\n",
       ">>> spl = UnivariateSpline(x, y, w=~w)\n",
       "\n",
       "Notice the need to replace a ``nan`` by a numerical value (precise value\n",
       "does not matter as long as the corresponding weight is zero.)\n",
       "\n",
       "Examples\n",
       "--------\n",
       ">>> import matplotlib.pyplot as plt\n",
       ">>> from scipy.interpolate import UnivariateSpline\n",
       ">>> x = np.linspace(-3, 3, 50)\n",
       ">>> y = np.exp(-x**2) + 0.1 * np.random.randn(50)\n",
       ">>> plt.plot(x, y, 'ro', ms=5)\n",
       "\n",
       "Use the default value for the smoothing parameter:\n",
       "\n",
       ">>> spl = UnivariateSpline(x, y)\n",
       ">>> xs = np.linspace(-3, 3, 1000)\n",
       ">>> plt.plot(xs, spl(xs), 'g', lw=3)\n",
       "\n",
       "Manually change the amount of smoothing:\n",
       "\n",
       ">>> spl.set_smoothing_factor(0.5)\n",
       ">>> plt.plot(xs, spl(xs), 'b', lw=3)\n",
       ">>> plt.show()\n",
       "\u001b[0;31mFile:\u001b[0m           /opt/miniconda3/lib/python3.7/site-packages/scipy/interpolate/fitpack2.py\n",
       "\u001b[0;31mType:\u001b[0m           type\n",
       "\u001b[0;31mSubclasses:\u001b[0m     InterpolatedUnivariateSpline, LSQUnivariateSpline\n"
      ]
     },
     "metadata": {},
     "output_type": "display_data"
    }
   ],
   "source": [
    "scipy.interpolate.UnivariateSpline?"
   ]
  },
  {
   "cell_type": "code",
   "execution_count": 97,
   "metadata": {},
   "outputs": [
    {
     "data": {
      "text/plain": [
       "['Akima1DInterpolator',\n",
       " 'BPoly',\n",
       " 'BSpline',\n",
       " 'BarycentricInterpolator',\n",
       " 'BivariateSpline',\n",
       " 'CloughTocher2DInterpolator',\n",
       " 'CubicHermiteSpline',\n",
       " 'CubicSpline',\n",
       " 'InterpolatedUnivariateSpline',\n",
       " 'KroghInterpolator',\n",
       " 'LSQBivariateSpline',\n",
       " 'LSQSphereBivariateSpline',\n",
       " 'LSQUnivariateSpline',\n",
       " 'LinearNDInterpolator',\n",
       " 'NdPPoly',\n",
       " 'NearestNDInterpolator',\n",
       " 'PPoly',\n",
       " 'PchipInterpolator',\n",
       " 'Rbf',\n",
       " 'RectBivariateSpline',\n",
       " 'RectSphereBivariateSpline',\n",
       " 'RegularGridInterpolator',\n",
       " 'SmoothBivariateSpline',\n",
       " 'SmoothSphereBivariateSpline',\n",
       " 'UnivariateSpline',\n",
       " '__all__',\n",
       " '__builtins__',\n",
       " '__cached__',\n",
       " '__doc__',\n",
       " '__file__',\n",
       " '__loader__',\n",
       " '__name__',\n",
       " '__package__',\n",
       " '__path__',\n",
       " '__spec__',\n",
       " '_bspl',\n",
       " '_bsplines',\n",
       " '_cubic',\n",
       " '_fitpack',\n",
       " '_fitpack_impl',\n",
       " '_pade',\n",
       " '_ppoly',\n",
       " 'absolute_import',\n",
       " 'approximate_taylor_polynomial',\n",
       " 'barycentric_interpolate',\n",
       " 'bisplev',\n",
       " 'bisplrep',\n",
       " 'dfitpack',\n",
       " 'division',\n",
       " 'fitpack',\n",
       " 'fitpack2',\n",
       " 'griddata',\n",
       " 'insert',\n",
       " 'interp1d',\n",
       " 'interp2d',\n",
       " 'interpn',\n",
       " 'interpnd',\n",
       " 'interpolate',\n",
       " 'krogh_interpolate',\n",
       " 'lagrange',\n",
       " 'make_interp_spline',\n",
       " 'make_lsq_spline',\n",
       " 'ndgriddata',\n",
       " 'pade',\n",
       " 'pchip',\n",
       " 'pchip_interpolate',\n",
       " 'polyint',\n",
       " 'print_function',\n",
       " 'rbf',\n",
       " 'spalde',\n",
       " 'splantider',\n",
       " 'splder',\n",
       " 'splev',\n",
       " 'splint',\n",
       " 'splprep',\n",
       " 'splrep',\n",
       " 'sproot',\n",
       " 'test']"
      ]
     },
     "execution_count": 97,
     "metadata": {},
     "output_type": "execute_result"
    }
   ],
   "source": [
    "dir(scipy.interpolate)"
   ]
  },
  {
   "cell_type": "code",
   "execution_count": 7,
   "metadata": {},
   "outputs": [],
   "source": [
    "# plotting style\n",
    "%config InlineBackend.figure_format = 'retina'\n",
    "plt.style.use('paper.mplstyle')\n",
    "twocol = 7.1014\n",
    "onecol = 3.35"
   ]
  },
  {
   "cell_type": "code",
   "execution_count": 59,
   "metadata": {},
   "outputs": [],
   "source": [
    "bandpass_dict = get_bandpass_dict(dlambda=10)"
   ]
  },
  {
   "cell_type": "markdown",
   "metadata": {},
   "source": [
    "The trained N8 templates before spectral line reconstruction\n",
    "\n",
    "![N8 Trained](plots/N8_trained.png)\n",
    "\n",
    "I am going to try to reconstruct the spectral lines in N8_6, N8_7, and N_8."
   ]
  },
  {
   "cell_type": "code",
   "execution_count": 13,
   "metadata": {},
   "outputs": [],
   "source": [
    "original_templates = dict()\n",
    "for i in range(1,9):\n",
    "    name = 'N8_'+str(i)\n",
    "    x,y = np.loadtxt('templates/'+name+'.sed',unpack=True)\n",
    "    original_templates[name] = Sed(x,y)"
   ]
  },
  {
   "cell_type": "markdown",
   "metadata": {},
   "source": [
    "Functions for spectral line reconstruction"
   ]
  },
  {
   "cell_type": "code",
   "execution_count": 35,
   "metadata": {},
   "outputs": [],
   "source": [
    "FWHM = 20\n",
    "sig = FWHM/2.355\n",
    "\n",
    "def idx_closest(x,array):\n",
    "    return np.fabs(np.array(array)-x).argmin()"
   ]
  },
  {
   "cell_type": "markdown",
   "metadata": {},
   "source": [
    "Start with N8_8"
   ]
  },
  {
   "cell_type": "code",
   "execution_count": 139,
   "metadata": {},
   "outputs": [
    {
     "name": "stdout",
     "output_type": "stream",
     "text": [
      "18.1135\n"
     ]
    },
    {
     "data": {
      "image/png": "[encoded data removed]",
      "text/plain": [
       "<Figure size 335x335 with 1 Axes>"
      ]
     },
     "metadata": {
      "image/png": {
       "height": 294,
       "width": 311
      },
      "needs_background": "light"
     },
     "output_type": "display_data"
    }
   ],
   "source": [
    "template = copy.deepcopy(original_templates['N8_8'])\n",
    "\n",
    "#plt.plot(template.wavelen,template.flambda)\n",
    "\n",
    "box_style = dict(facecolor='none', edgecolor='none', pad=0)\n",
    "# Halpha\n",
    "plt.vlines(6563,0,10,color='silver',alpha=0.75) # Halpha\n",
    "plt.text(6563,1.75,r\"H$\\alpha$\",fontsize=8,rotation=90,\n",
    "         color='gray',ha='left',va='center',bbox=box_style)\n",
    "# Hbeta   \n",
    "plt.vlines(4861,0,10,color='silver',alpha=0.75) # Hbeta\n",
    "plt.text(4861,1.75,r\"H$\\beta$\",fontsize=8,rotation=90,\n",
    "         color='gray',ha='right',va='center')       \n",
    "# OIII\n",
    "plt.vlines(5007,0,10,color='silver',alpha=0.75) # OIII\n",
    "plt.text(5007,1.75,\"OIII\",fontsize=8,rotation=90,\n",
    "         color='gray',ha='left',va='center')\n",
    "# OII\n",
    "plt.vlines(3727,0,10,color='silver',alpha=0.75) # OII\n",
    "plt.text(3727,1.75,\"OII\",fontsize=8,rotation=90,\n",
    "         color='gray',ha='right',va='center',bbox=box_style)\n",
    "# Hdelta\n",
    "plt.vlines(4102,0,2.1,color='silver',alpha=0.75) # Hdelta\n",
    "plt.text(4102,1.75,r\"H$\\delta$\",fontsize=8,rotation=90,\n",
    "         color='gray',ha='right',va='center',bbox=box_style)\n",
    "# Hgamma\n",
    "plt.vlines(4340,0,2.1,color='silver',alpha=0.75) # Hgamma\n",
    "plt.text(4340,1.75,r\"H$\\gamma$\",fontsize=8,rotation=90,\n",
    "         color='gray',ha='right',va='center',bbox=box_style)\n",
    "\n",
    "\n",
    "idx_lo = idx_closest(6200,template.wavelen)\n",
    "#plt.scatter(template.wavelen[idx_lo],template.flambda[idx_lo],c='r')\n",
    "\n",
    "idx_hi = idx_closest(6900,template.wavelen)\n",
    "#plt.scatter(template.wavelen[idx_hi],template.flambda[idx_hi],c='r')\n",
    "\n",
    "subtrX = template.wavelen[idx_lo:idx_hi+1].copy()\n",
    "subtrY = template.flambda[idx_lo:idx_hi+1].copy()\n",
    "continuum = np.interp(subtrX,[subtrX[0],subtrX[-1]],[subtrY[0],subtrY[-1]])\n",
    "subtrY -= continuum\n",
    "\n",
    "#plt.plot(subtrX,subtrY)\n",
    "\n",
    "Ha_scale = simps(subtrY,subtrX)\n",
    "Hb_scale = 0.35*Ha_scale\n",
    "Hd_scale = 0.09*Ha_scale\n",
    "Hg_scale = 0.16*Ha_scale\n",
    "\n",
    "print(Hd_scale+Hg_scale)\n",
    "\n",
    "Hlines = Ha_scale*norm.pdf(template.wavelen,6563,sig) #+\\\n",
    "#         Hb_scale*norm.pdf(template.wavelen,4861,sig) +\\\n",
    "#         Hd_scale*norm.pdf(template.wavelen,4102,sig) +\\\n",
    "#         Hg_scale*norm.pdf(template.wavelen,4340,sig)\n",
    "\n",
    "#plt.plot(template.wavelen,Hlines)\n",
    "\n",
    "spl = UnivariateSpline(subtrX,subtrY)\n",
    "#plt.plot(subtrX,spl(subtrX))\n",
    "\n",
    "template.flambda[idx_lo:idx_hi+1] -= spl(template.wavelen[idx_lo:idx_hi+1])\n",
    "plt.plot(template.wavelen,template.flambda+Hlines)\n",
    "\n",
    "\n",
    "#plt.xlim(2500,8000)\n",
    "#plt.ylim(0,2)\n",
    "\n",
    "plt.xlim(100,13000)\n",
    "plt.yscale('symlog',linthreshy=3)\n",
    "plt.ylim(0,10)\n",
    "\n",
    "plt.show()"
   ]
  },
  {
   "cell_type": "code",
   "execution_count": 118,
   "metadata": {},
   "outputs": [
    {
     "name": "stdout",
     "output_type": "stream",
     "text": [
      "46.52825000000001\n"
     ]
    },
    {
     "data": {
      "image/png": "[encoded data removed]",
      "text/plain": [
       "<Figure size 335x335 with 1 Axes>"
      ]
     },
     "metadata": {
      "image/png": {
       "height": 294,
       "width": 322
      },
      "needs_background": "light"
     },
     "output_type": "display_data"
    }
   ],
   "source": [
    "template = copy.deepcopy(original_templates['N8_8'])\n",
    "\n",
    "plt.plot(template.wavelen,template.flambda)\n",
    "\n",
    "box_style = dict(facecolor='none', edgecolor='none', pad=0)\n",
    "# Halpha\n",
    "plt.vlines(6563,0,10,color='silver',alpha=0.75) # Halpha\n",
    "plt.text(6563,1.75,r\"H$\\alpha$\",fontsize=8,rotation=90,\n",
    "         color='gray',ha='left',va='center',bbox=box_style)\n",
    "# Hbeta   \n",
    "plt.vlines(4861,0,10,color='silver',alpha=0.75) # Hbeta\n",
    "plt.text(4861,1.75,r\"H$\\beta$\",fontsize=8,rotation=90,\n",
    "         color='gray',ha='right',va='center')       \n",
    "# OIII\n",
    "plt.vlines(5007,0,10,color='silver',alpha=0.75) # OIII\n",
    "plt.text(5007,1.75,\"OIII\",fontsize=8,rotation=90,\n",
    "         color='gray',ha='left',va='center')\n",
    "# OII\n",
    "plt.vlines(3727,0,10,color='silver',alpha=0.75) # OII\n",
    "plt.text(3727,1.75,\"OII\",fontsize=8,rotation=90,\n",
    "         color='gray',ha='right',va='center',bbox=box_style)\n",
    "# Hdelta\n",
    "plt.vlines(4102,0,2.1,color='silver',alpha=0.75) # Hdelta\n",
    "plt.text(4102,1.75,r\"H$\\delta$\",fontsize=8,rotation=90,\n",
    "         color='gray',ha='right',va='center',bbox=box_style)\n",
    "# Hgamma\n",
    "plt.vlines(4340,0,2.1,color='silver',alpha=0.75) # Hgamma\n",
    "plt.text(4340,1.75,r\"H$\\gamma$\",fontsize=8,rotation=90,\n",
    "         color='gray',ha='right',va='center',bbox=box_style)\n",
    "\n",
    "\n",
    "idx_lo = idx_closest(4000,template.wavelen)\n",
    "plt.scatter(template.wavelen[idx_lo],template.flambda[idx_lo],c='r')\n",
    "\n",
    "idx_hi = idx_closest(4550,template.wavelen)\n",
    "plt.scatter(template.wavelen[idx_hi],template.flambda[idx_hi],c='r')\n",
    "\n",
    "subtrX = template.wavelen[idx_lo:idx_hi+1].copy()\n",
    "subtrY = template.flambda[idx_lo:idx_hi+1].copy()\n",
    "continuum = np.interp(subtrX,[subtrX[0],subtrX[-1]],[subtrY[0],subtrY[-1]])\n",
    "subtrY -= continuum\n",
    "\n",
    "plt.plot(subtrX,subtrY)\n",
    "print(simps(subtrY,subtrX))\n",
    "\n",
    "\"\"\"\n",
    "Ha_scale = simps(subtrY,subtrX)\n",
    "Hb_scale = 0.35*Ha_scale\n",
    "Hd_scale = 0.09*Ha_scale\n",
    "Hg_scale = 0.16*Ha_scale\n",
    "\n",
    "Hlines = Ha_scale*norm.pdf(template.wavelen,6563,sig) +\\\n",
    "         Hb_scale*norm.pdf(template.wavelen,4861,sig) +\\\n",
    "         Hd_scale*norm.pdf(template.wavelen,4102,sig) +\\\n",
    "         Hg_scale*norm.pdf(template.wavelen,4340,sig)\n",
    "\n",
    "plt.plot(template.wavelen,Hlines)\n",
    "\n",
    "spl = UnivariateSpline(subtrX,subtrY)\n",
    "plt.plot(subtrX,spl(subtrX))\n",
    "\n",
    "template.flambda[idx_lo:idx_hi+1] -= spl(template.wavelen[idx_lo:idx_hi+1])\n",
    "plt.plot(template.wavelen,template.flambda)\n",
    "\"\"\"\n",
    "\n",
    "plt.xlim(2500,8000)\n",
    "plt.ylim(0,2)\n",
    "plt.show()"
   ]
  },
  {
   "cell_type": "code",
   "execution_count": null,
   "metadata": {},
   "outputs": [],
   "source": []
  }
 ],
 "metadata": {
  "kernelspec": {
   "display_name": "Python 3",
   "language": "python",
   "name": "python3"
  },
  "language_info": {
   "codemirror_mode": {
    "name": "ipython",
    "version": 3
   },
   "file_extension": ".py",
   "mimetype": "text/x-python",
   "name": "python",
   "nbconvert_exporter": "python",
   "pygments_lexer": "ipython3",
   "version": "3.7.3"
  }
 },
 "nbformat": 4,
 "nbformat_minor": 4
}
