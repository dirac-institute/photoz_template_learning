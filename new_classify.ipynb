{
 "cells": [
  {
   "cell_type": "code",
   "execution_count": 1,
   "metadata": {},
   "outputs": [],
   "source": [
    "import numpy as np\n",
    "import matplotlib.pyplot as plt\n",
    "import copy\n",
    "from modules import get_bandpass_dict, Sed"
   ]
  },
  {
   "cell_type": "code",
   "execution_count": 2,
   "metadata": {},
   "outputs": [],
   "source": [
    "# plotting style\n",
    "%config InlineBackend.figure_format = 'retina'\n",
    "plt.style.use('paper.mplstyle')\n",
    "twocol = 7.1014\n",
    "onecol = 3.35"
   ]
  },
  {
   "cell_type": "code",
   "execution_count": 3,
   "metadata": {},
   "outputs": [],
   "source": [
    "bandpass_dict = get_bandpass_dict()"
   ]
  },
  {
   "cell_type": "code",
   "execution_count": 4,
   "metadata": {},
   "outputs": [],
   "source": [
    "def classify(template_list):\n",
    "    \n",
    "    cwwsb4 = np.loadtxt('templates/cwwsb4.list',dtype=str)\n",
    "    bands = ['NUV','u','g','r','i','z','y','J']\n",
    "    \n",
    "    ref_fluxes = []\n",
    "    for template in cwwsb4:\n",
    "        name = 'templates/'+template\n",
    "        x,y = np.loadtxt(name,unpack=True)\n",
    "        sed = Sed(x,y)\n",
    "\n",
    "        fluxes = sed.fluxlist(bandpass_dict,bands)\n",
    "        ref_fluxes.append(fluxes)\n",
    "        \n",
    "    for template in template_list:\n",
    "        name = 'templates/'+template\n",
    "        x,y = np.loadtxt(name,unpack=True)\n",
    "        sed = Sed(x,y)\n",
    "\n",
    "        fluxes = sed.fluxlist(bandpass_dict,bands)\n",
    "        mse = []\n",
    "        for rfluxes in ref_fluxes:\n",
    "            rfluxes_ = rfluxes.copy()\n",
    "            ratios = fluxes/rfluxes_\n",
    "            med = np.median(ratios)\n",
    "            norm_idx = np.argmin(ratios - med)\n",
    "            #norm_idx = 4\n",
    "            rfluxes_ *= fluxes[norm_idx]/rfluxes_[norm_idx]\n",
    "            mse.append(np.mean((rfluxes_ - fluxes)**2))\n",
    "        idx = np.argmin(mse)\n",
    "        print(template[:-4],'---',cwwsb4[idx][:-4])"
   ]
  },
  {
   "cell_type": "code",
   "execution_count": 5,
   "metadata": {},
   "outputs": [
    {
     "name": "stdout",
     "output_type": "stream",
     "text": [
      "El_trained --- El_B2004a\n",
      "Sbc_trained --- Sbc_B2004a\n",
      "Scd_trained --- Scd_B2004a\n",
      "Im_trained --- Im_B2004a\n",
      "SB3_trained --- Scd_B2004a\n",
      "SB2_trained --- SB2_B2004a\n",
      "25Myr_trained --- ssp_25Myr_z008\n",
      "5Myr_trained --- ssp_25Myr_z008\n"
     ]
    }
   ],
   "source": [
    "cwwsb4_trained = ['El_trained.sed', 'Sbc_trained.sed',\n",
    "                  'Scd_trained.sed', 'Im_trained.sed',\n",
    "                  'SB3_trained.sed', 'SB2_trained.sed',\n",
    "                  '25Myr_trained.sed', '5Myr_trained.sed']\n",
    "classify(cwwsb4_trained)"
   ]
  },
  {
   "cell_type": "code",
   "execution_count": 6,
   "metadata": {},
   "outputs": [
    {
     "name": "stdout",
     "output_type": "stream",
     "text": [
      "N8_1 --- El_B2004a\n",
      "N8_2 --- Scd_B2004a\n",
      "N8_3 --- Scd_B2004a\n",
      "N8_4 --- Scd_B2004a\n",
      "N8_5 --- Im_B2004a\n",
      "N8_6 --- SB2_B2004a\n",
      "N8_7 --- SB2_B2004a\n",
      "N8_8 --- ssp_25Myr_z008\n"
     ]
    }
   ],
   "source": [
    "N8 = ['N8_'+str(i+1)+'.sed' for i in range(8)]\n",
    "classify(N8)"
   ]
  },
  {
   "cell_type": "code",
   "execution_count": 7,
   "metadata": {},
   "outputs": [
    {
     "name": "stdout",
     "output_type": "stream",
     "text": [
      "N16_1 --- El_B2004a\n",
      "N16_2 --- Scd_B2004a\n",
      "N16_3 --- El_B2004a\n",
      "N16_4 --- Scd_B2004a\n",
      "N16_5 --- Scd_B2004a\n",
      "N16_6 --- Scd_B2004a\n",
      "N16_7 --- Scd_B2004a\n",
      "N16_8 --- SB3_B2004a\n",
      "N16_9 --- Im_B2004a\n",
      "N16_10 --- SB2_B2004a\n",
      "N16_11 --- SB2_B2004a\n",
      "N16_12 --- SB2_B2004a\n",
      "N16_13 --- SB2_B2004a\n",
      "N16_14 --- SB2_B2004a\n",
      "N16_15 --- ssp_25Myr_z008\n",
      "N16_16 --- ssp_25Myr_z008\n"
     ]
    }
   ],
   "source": [
    "N16 = ['N16_'+str(i+1)+'.sed' for i in range(16)]\n",
    "classify(N16)"
   ]
  },
  {
   "cell_type": "code",
   "execution_count": null,
   "metadata": {},
   "outputs": [],
   "source": []
  }
 ],
 "metadata": {
  "kernelspec": {
   "display_name": "Python 3",
   "language": "python",
   "name": "python3"
  },
  "language_info": {
   "codemirror_mode": {
    "name": "ipython",
    "version": 3
   },
   "file_extension": ".py",
   "mimetype": "text/x-python",
   "name": "python",
   "nbconvert_exporter": "python",
   "pygments_lexer": "ipython3",
   "version": "3.7.6"
  }
 },
 "nbformat": 4,
 "nbformat_minor": 4
}
