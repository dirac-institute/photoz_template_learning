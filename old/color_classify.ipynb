{
 "cells": [
  {
   "cell_type": "markdown",
   "metadata": {},
   "source": [
    "Notebook to classify the naive templates as El, Sp, Im/SB"
   ]
  },
  {
   "cell_type": "code",
   "execution_count": 1,
   "metadata": {},
   "outputs": [],
   "source": [
    "import numpy as np\n",
    "import matplotlib.pyplot as plt\n",
    "from sklearn.decomposition import PCA\n",
    "import copy\n",
    "\n",
    "from modules import get_bandpass_dict, Sed"
   ]
  },
  {
   "cell_type": "code",
   "execution_count": 2,
   "metadata": {},
   "outputs": [],
   "source": [
    "# plotting style\n",
    "%config InlineBackend.figure_format = 'retina'\n",
    "plt.style.use('paper.mplstyle')\n",
    "twocol = 7.1014\n",
    "onecol = 3.35"
   ]
  },
  {
   "cell_type": "code",
   "execution_count": 3,
   "metadata": {},
   "outputs": [],
   "source": [
    "bandpass_dict = get_bandpass_dict()"
   ]
  },
  {
   "cell_type": "markdown",
   "metadata": {},
   "source": [
    "Calculate colors for each set of templates"
   ]
  },
  {
   "cell_type": "code",
   "execution_count": 4,
   "metadata": {},
   "outputs": [],
   "source": [
    "cwwsb4 = np.loadtxt('templates/cwwsb4.list',dtype=str)\n",
    "xcolor0 = []\n",
    "ycolor0 = []\n",
    "for template in cwwsb4:\n",
    "    name = 'templates/'+template\n",
    "    x,y = np.loadtxt(name,unpack=True)\n",
    "    sed = Sed(x,y)\n",
    "    \n",
    "    fluxes = sed.fluxlist(bandpass_dict,['NUV','u','g'])\n",
    "    xcolor0.append(2.5*np.log10(fluxes[1]/fluxes[0]))\n",
    "    ycolor0.append(2.5*np.log10(fluxes[2]/fluxes[1]))\n",
    "    \n",
    "naive = ['naive'+str(i+1)+'.sed' for i in range(20)]\n",
    "xcolor1 = []\n",
    "ycolor1 = []\n",
    "for template in naive:\n",
    "    name = 'templates/'+template\n",
    "    x,y = np.loadtxt(name,unpack=True)\n",
    "    sed = Sed(x,y)\n",
    "    \n",
    "    fluxes = sed.fluxlist(bandpass_dict,['NUV','u','g'])\n",
    "    xcolor1.append(2.5*np.log10(fluxes[1]/fluxes[0]))\n",
    "    ycolor1.append(2.5*np.log10(fluxes[2]/fluxes[1]))\n",
    "    "
   ]
  },
  {
   "cell_type": "markdown",
   "metadata": {},
   "source": [
    "Function that matches the colors to the closest CWWSB4 template"
   ]
  },
  {
   "cell_type": "code",
   "execution_count": 5,
   "metadata": {},
   "outputs": [],
   "source": [
    "def closest(x,y):\n",
    "    distances = []\n",
    "    for i,j in zip(xcolor0,ycolor0):\n",
    "        distances.append((x-i)**2 + (y-j)**2)\n",
    "    return np.array(distances).argmin()"
   ]
  },
  {
   "cell_type": "markdown",
   "metadata": {},
   "source": [
    "Evaluate the function on a grid to make the background of the plot"
   ]
  },
  {
   "cell_type": "code",
   "execution_count": 6,
   "metadata": {},
   "outputs": [],
   "source": [
    "# Calculate the nearest neighbor grid\n",
    "\n",
    "X = np.linspace(-2,3,1000)\n",
    "Y = np.linspace(-0.8,1,1000)\n",
    "Z = []\n",
    "for y in Y:\n",
    "    row = []\n",
    "    for x in X:\n",
    "        row.append(closest(x,y))\n",
    "    Z.append(row)"
   ]
  },
  {
   "cell_type": "markdown",
   "metadata": {},
   "source": [
    "Plot the template colors on top of this grid"
   ]
  },
  {
   "cell_type": "code",
   "execution_count": 8,
   "metadata": {},
   "outputs": [
    {
     "data": {
      "image/png": "[encoded data removed]",
      "text/plain": [
       "<Figure size 335x335 with 1 Axes>"
      ]
     },
     "metadata": {
      "image/png": {
       "height": 312,
       "width": 334
      },
      "needs_background": "light"
     },
     "output_type": "display_data"
    }
   ],
   "source": [
    "fig,ax = plt.subplots()#figsize=(8,8))\n",
    "\n",
    "ax.contourf(X,Y,Z,[0,0.5,2.5,10],colors=['C3','C2','C0'],alpha=0.15)\n",
    "\n",
    "ax.scatter(xcolor0,ycolor0,c=['C3','C2','C2','C0','C0','C0','C0','C0'],s=8)\n",
    "\n",
    "ax.scatter(xcolor1,ycolor1,c='k')\n",
    "\n",
    "\n",
    "#for i,(x,y) in enumerate(zip(xcolor1,ycolor1)):\n",
    "#    ax.annotate(i+1,(x+0.1,y-0.05))\n",
    "#    if i == 7:\n",
    "#        break\n",
    "\n",
    "ax.set_xlim(-2,3)\n",
    "ax.set_ylim(-0.8,1)\n",
    "\n",
    "ax.set_xlabel('NUV - u')\n",
    "ax.set_ylabel('u - g')\n",
    "\n",
    "plt.show()"
   ]
  },
  {
   "cell_type": "code",
   "execution_count": null,
   "metadata": {},
   "outputs": [],
   "source": []
  }
 ],
 "metadata": {
  "kernelspec": {
   "display_name": "Python 3",
   "language": "python",
   "name": "python3"
  },
  "language_info": {
   "codemirror_mode": {
    "name": "ipython",
    "version": 3
   },
   "file_extension": ".py",
   "mimetype": "text/x-python",
   "name": "python",
   "nbconvert_exporter": "python",
   "pygments_lexer": "ipython3",
   "version": "3.7.3"
  }
 },
 "nbformat": 4,
 "nbformat_minor": 4
}
